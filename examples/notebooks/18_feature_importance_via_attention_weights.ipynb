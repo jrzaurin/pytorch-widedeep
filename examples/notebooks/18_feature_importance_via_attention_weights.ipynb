{
 "cells": [
  {
   "cell_type": "markdown",
   "id": "0e4d6c56",
   "metadata": {},
   "source": [
    "### Feature Importance via the attention weights\n",
    "\n",
    "I will start by saying that I consider this feature of the library purely experimental. First of all I think there are multiple ways one could address finding the features importances for these models. However, and more importantly, one has to bear in mind that even tree-based algorithms on the same dataset produce different feature importances. This is more \"dramatic\" if one uses different techniques, such as shap or feature permutation (see for example [this](https://reneelin2019.medium.com/calculating-feature-importance-with-permutation-to-explain-the-model-income-prediction-example-38a52e67441d) and references therein). All this to say that, sometimes, feature importance is just a measure contained within the experiment run, and for the model used.\n",
    "\n",
    "With that in mind, each instantiation of a deep tabular model, that has millions of trainable parameters, will potentially produce a different set of feature importances, even if the model has the same architecture. Moreover, this effect will become more apparent if the dataset is relatively easy and there are dependent/related columns so that one could get to the same success metric with different parameters. \n",
    "\n",
    "In summary, feature importances are implemented in this librray for all attention-based models for tabular data, with the exception of the `TabPerceiver`. However this functionality has to be used and interpreted with care and consider of value within the 'universe' (or context) of the model with which these features were produced.\n",
    "\n",
    "Nonetheless, let's have a look to how one would access to the feature importances when using this library. "
   ]
  },
  {
   "cell_type": "code",
   "execution_count": 1,
   "id": "365df643",
   "metadata": {},
   "outputs": [],
   "source": [
    "import torch\n",
    "\n",
    "import numpy as np\n",
    "from sklearn.model_selection import train_test_split\n",
    "from sklearn.metrics import accuracy_score\n",
    "\n",
    "\n",
    "from pytorch_widedeep import Trainer\n",
    "from pytorch_widedeep.models import TabTransformer, ContextAttentionMLP, WideDeep\n",
    "from pytorch_widedeep.callbacks import EarlyStopping\n",
    "from pytorch_widedeep.metrics import Accuracy\n",
    "from pytorch_widedeep.datasets import load_adult\n",
    "from pytorch_widedeep.preprocessing import TabPreprocessor"
   ]
  },
  {
   "cell_type": "code",
   "execution_count": 2,
   "id": "0f935ef4",
   "metadata": {},
   "outputs": [],
   "source": [
    "# use_cuda = torch.cuda.is_available()\n",
    "df = load_adult(as_frame=True)\n",
    "df.columns = [c.replace(\"-\", \"_\") for c in df.columns]\n",
    "df[\"income_label\"] = (df[\"income\"].apply(lambda x: \">50K\" in x)).astype(int)\n",
    "df.drop([\"income\", \"fnlwgt\", \"educational_num\"], axis=1, inplace=True)\n",
    "target_colname = \"income_label\""
   ]
  },
  {
   "cell_type": "code",
   "execution_count": 3,
   "id": "202e7377",
   "metadata": {},
   "outputs": [
    {
     "data": {
      "text/html": [
       "<div>\n",
       "<style scoped>\n",
       "    .dataframe tbody tr th:only-of-type {\n",
       "        vertical-align: middle;\n",
       "    }\n",
       "\n",
       "    .dataframe tbody tr th {\n",
       "        vertical-align: top;\n",
       "    }\n",
       "\n",
       "    .dataframe thead th {\n",
       "        text-align: right;\n",
       "    }\n",
       "</style>\n",
       "<table border=\"1\" class=\"dataframe\">\n",
       "  <thead>\n",
       "    <tr style=\"text-align: right;\">\n",
       "      <th></th>\n",
       "      <th>age</th>\n",
       "      <th>workclass</th>\n",
       "      <th>education</th>\n",
       "      <th>marital_status</th>\n",
       "      <th>occupation</th>\n",
       "      <th>relationship</th>\n",
       "      <th>race</th>\n",
       "      <th>gender</th>\n",
       "      <th>capital_gain</th>\n",
       "      <th>capital_loss</th>\n",
       "      <th>hours_per_week</th>\n",
       "      <th>native_country</th>\n",
       "      <th>income_label</th>\n",
       "    </tr>\n",
       "  </thead>\n",
       "  <tbody>\n",
       "    <tr>\n",
       "      <th>0</th>\n",
       "      <td>25</td>\n",
       "      <td>Private</td>\n",
       "      <td>11th</td>\n",
       "      <td>Never-married</td>\n",
       "      <td>Machine-op-inspct</td>\n",
       "      <td>Own-child</td>\n",
       "      <td>Black</td>\n",
       "      <td>Male</td>\n",
       "      <td>0</td>\n",
       "      <td>0</td>\n",
       "      <td>40</td>\n",
       "      <td>United-States</td>\n",
       "      <td>0</td>\n",
       "    </tr>\n",
       "    <tr>\n",
       "      <th>1</th>\n",
       "      <td>38</td>\n",
       "      <td>Private</td>\n",
       "      <td>HS-grad</td>\n",
       "      <td>Married-civ-spouse</td>\n",
       "      <td>Farming-fishing</td>\n",
       "      <td>Husband</td>\n",
       "      <td>White</td>\n",
       "      <td>Male</td>\n",
       "      <td>0</td>\n",
       "      <td>0</td>\n",
       "      <td>50</td>\n",
       "      <td>United-States</td>\n",
       "      <td>0</td>\n",
       "    </tr>\n",
       "    <tr>\n",
       "      <th>2</th>\n",
       "      <td>28</td>\n",
       "      <td>Local-gov</td>\n",
       "      <td>Assoc-acdm</td>\n",
       "      <td>Married-civ-spouse</td>\n",
       "      <td>Protective-serv</td>\n",
       "      <td>Husband</td>\n",
       "      <td>White</td>\n",
       "      <td>Male</td>\n",
       "      <td>0</td>\n",
       "      <td>0</td>\n",
       "      <td>40</td>\n",
       "      <td>United-States</td>\n",
       "      <td>1</td>\n",
       "    </tr>\n",
       "    <tr>\n",
       "      <th>3</th>\n",
       "      <td>44</td>\n",
       "      <td>Private</td>\n",
       "      <td>Some-college</td>\n",
       "      <td>Married-civ-spouse</td>\n",
       "      <td>Machine-op-inspct</td>\n",
       "      <td>Husband</td>\n",
       "      <td>Black</td>\n",
       "      <td>Male</td>\n",
       "      <td>7688</td>\n",
       "      <td>0</td>\n",
       "      <td>40</td>\n",
       "      <td>United-States</td>\n",
       "      <td>1</td>\n",
       "    </tr>\n",
       "    <tr>\n",
       "      <th>4</th>\n",
       "      <td>18</td>\n",
       "      <td>?</td>\n",
       "      <td>Some-college</td>\n",
       "      <td>Never-married</td>\n",
       "      <td>?</td>\n",
       "      <td>Own-child</td>\n",
       "      <td>White</td>\n",
       "      <td>Female</td>\n",
       "      <td>0</td>\n",
       "      <td>0</td>\n",
       "      <td>30</td>\n",
       "      <td>United-States</td>\n",
       "      <td>0</td>\n",
       "    </tr>\n",
       "  </tbody>\n",
       "</table>\n",
       "</div>"
      ],
      "text/plain": [
       "   age  workclass     education      marital_status         occupation  \\\n",
       "0   25    Private          11th       Never-married  Machine-op-inspct   \n",
       "1   38    Private       HS-grad  Married-civ-spouse    Farming-fishing   \n",
       "2   28  Local-gov    Assoc-acdm  Married-civ-spouse    Protective-serv   \n",
       "3   44    Private  Some-college  Married-civ-spouse  Machine-op-inspct   \n",
       "4   18          ?  Some-college       Never-married                  ?   \n",
       "\n",
       "  relationship   race  gender  capital_gain  capital_loss  hours_per_week  \\\n",
       "0    Own-child  Black    Male             0             0              40   \n",
       "1      Husband  White    Male             0             0              50   \n",
       "2      Husband  White    Male             0             0              40   \n",
       "3      Husband  Black    Male          7688             0              40   \n",
       "4    Own-child  White  Female             0             0              30   \n",
       "\n",
       "  native_country  income_label  \n",
       "0  United-States             0  \n",
       "1  United-States             0  \n",
       "2  United-States             1  \n",
       "3  United-States             1  \n",
       "4  United-States             0  "
      ]
     },
     "execution_count": 3,
     "metadata": {},
     "output_type": "execute_result"
    }
   ],
   "source": [
    "df.head()"
   ]
  },
  {
   "cell_type": "code",
   "execution_count": 4,
   "id": "4264cba5",
   "metadata": {},
   "outputs": [],
   "source": [
    "cat_embed_cols = []\n",
    "for col in df.columns:\n",
    "    if df[col].dtype == \"O\" or df[col].nunique() < 200 and col != target_colname:\n",
    "        cat_embed_cols.append(col)"
   ]
  },
  {
   "cell_type": "code",
   "execution_count": 5,
   "id": "48ae0977",
   "metadata": {},
   "outputs": [],
   "source": [
    "# all cols will be categorical\n",
    "assert len(cat_embed_cols) == df.shape[1] - 1"
   ]
  },
  {
   "cell_type": "code",
   "execution_count": 6,
   "id": "0abe7bb4",
   "metadata": {},
   "outputs": [],
   "source": [
    "train, test = train_test_split(\n",
    "    df, test_size=0.1, random_state=1, stratify=df[[target_colname]]\n",
    ")"
   ]
  },
  {
   "cell_type": "code",
   "execution_count": 7,
   "id": "a762aee5",
   "metadata": {},
   "outputs": [],
   "source": [
    "tab_preprocessor = TabPreprocessor(cat_embed_cols=cat_embed_cols, with_attention=True)"
   ]
  },
  {
   "cell_type": "code",
   "execution_count": 8,
   "id": "a233f9a8",
   "metadata": {},
   "outputs": [],
   "source": [
    "X_tab_train = tab_preprocessor.fit_transform(train)\n",
    "X_tab_test = tab_preprocessor.transform(test)\n",
    "target = train[target_colname].values"
   ]
  },
  {
   "cell_type": "code",
   "execution_count": 9,
   "id": "c17233fe",
   "metadata": {},
   "outputs": [],
   "source": [
    "tab_transformer = TabTransformer(\n",
    "    column_idx=tab_preprocessor.column_idx,\n",
    "    cat_embed_input=tab_preprocessor.cat_embed_input,\n",
    "    cat_embed_dropout=0.0,\n",
    "    input_dim=8,\n",
    "    n_heads=2,\n",
    "    n_blocks=1,\n",
    "    attn_dropout=0.1,\n",
    "    transformer_activation=\"relu\",\n",
    ")"
   ]
  },
  {
   "cell_type": "code",
   "execution_count": 10,
   "id": "5010c08d",
   "metadata": {},
   "outputs": [],
   "source": [
    "model = WideDeep(deeptabular=tab_transformer)"
   ]
  },
  {
   "cell_type": "code",
   "execution_count": 11,
   "id": "145803d9",
   "metadata": {},
   "outputs": [],
   "source": [
    "optimizer = torch.optim.Adam(model.parameters(), lr=0.01, weight_decay=0.0)"
   ]
  },
  {
   "cell_type": "code",
   "execution_count": 12,
   "id": "24133088",
   "metadata": {},
   "outputs": [],
   "source": [
    "lr_scheduler = torch.optim.lr_scheduler.ReduceLROnPlateau(\n",
    "    optimizer,\n",
    "    threshold=0.001,\n",
    "    threshold_mode=\"abs\",\n",
    "    patience=10,\n",
    ")"
   ]
  },
  {
   "cell_type": "code",
   "execution_count": 13,
   "id": "06330871",
   "metadata": {},
   "outputs": [],
   "source": [
    "early_stopping = EarlyStopping(\n",
    "    min_delta=0.001, patience=30, restore_best_weights=True, verbose=True\n",
    ")"
   ]
  },
  {
   "cell_type": "code",
   "execution_count": 14,
   "id": "405befbe",
   "metadata": {},
   "outputs": [],
   "source": [
    "trainer = Trainer(\n",
    "    model,\n",
    "    objective=\"binary\",\n",
    "    optimizers=optimizer,\n",
    "    lr_schedulers=lr_scheduler,\n",
    "    reducelronplateau_criterion=\"loss\",\n",
    "    callbacks=[early_stopping],\n",
    "    metrics=[Accuracy],\n",
    ")"
   ]
  },
  {
   "cell_type": "markdown",
   "id": "997a5283",
   "metadata": {},
   "source": [
    "The feature importances will be computed after training, using a sample of the training dataset of size `feature_importance_sample_size`"
   ]
  },
  {
   "cell_type": "code",
   "execution_count": 15,
   "id": "459d0f69",
   "metadata": {
    "scrolled": false
   },
   "outputs": [
    {
     "name": "stderr",
     "output_type": "stream",
     "text": [
      "epoch 1: 100%|████| 275/275 [00:03<00:00, 90.98it/s, loss=0.332, metrics={'acc': 0.847}]\n",
      "valid: 100%|███████| 69/69 [00:00<00:00, 148.31it/s, loss=0.292, metrics={'acc': 0.866}]\n",
      "epoch 2: 100%|████| 275/275 [00:02<00:00, 96.35it/s, loss=0.289, metrics={'acc': 0.868}]\n",
      "valid: 100%|██████| 69/69 [00:00<00:00, 147.03it/s, loss=0.278, metrics={'acc': 0.8717}]\n",
      "epoch 3: 100%|████| 275/275 [00:02<00:00, 94.23it/s, loss=0.28, metrics={'acc': 0.8719}]\n",
      "valid: 100%|██████| 69/69 [00:00<00:00, 139.13it/s, loss=0.275, metrics={'acc': 0.8732}]\n",
      "epoch 4: 100%|████| 275/275 [00:03<00:00, 90.15it/s, loss=0.276, metrics={'acc': 0.872}]\n",
      "valid: 100%|██████| 69/69 [00:00<00:00, 133.21it/s, loss=0.275, metrics={'acc': 0.8706}]\n",
      "epoch 5: 100%|███| 275/275 [00:03<00:00, 86.75it/s, loss=0.274, metrics={'acc': 0.8736}]\n",
      "valid: 100%|██████| 69/69 [00:00<00:00, 132.85it/s, loss=0.275, metrics={'acc': 0.8717}]\n",
      "epoch 6: 100%|███| 275/275 [00:03<00:00, 89.16it/s, loss=0.272, metrics={'acc': 0.8742}]\n",
      "valid: 100%|██████| 69/69 [00:00<00:00, 129.50it/s, loss=0.273, metrics={'acc': 0.8733}]\n",
      "epoch 7: 100%|███| 275/275 [00:03<00:00, 88.98it/s, loss=0.271, metrics={'acc': 0.8748}]\n",
      "valid: 100%|██████| 69/69 [00:00<00:00, 129.81it/s, loss=0.273, metrics={'acc': 0.8715}]\n",
      "epoch 8: 100%|████| 275/275 [00:03<00:00, 88.63it/s, loss=0.27, metrics={'acc': 0.8748}]\n",
      "valid: 100%|██████| 69/69 [00:00<00:00, 129.81it/s, loss=0.272, metrics={'acc': 0.8739}]\n",
      "epoch 9: 100%|███| 275/275 [00:03<00:00, 88.68it/s, loss=0.269, metrics={'acc': 0.8762}]\n",
      "valid: 100%|██████| 69/69 [00:00<00:00, 129.69it/s, loss=0.271, metrics={'acc': 0.8741}]\n",
      "epoch 10: 100%|██| 275/275 [00:03<00:00, 89.56it/s, loss=0.267, metrics={'acc': 0.8761}]\n",
      "valid: 100%|███████| 69/69 [00:00<00:00, 132.71it/s, loss=0.271, metrics={'acc': 0.874}]\n",
      "epoch 11: 100%|██| 275/275 [00:03<00:00, 81.74it/s, loss=0.267, metrics={'acc': 0.8757}]\n",
      "valid: 100%|██████| 69/69 [00:00<00:00, 120.83it/s, loss=0.272, metrics={'acc': 0.8744}]\n",
      "epoch 12: 100%|██| 275/275 [00:03<00:00, 75.27it/s, loss=0.266, metrics={'acc': 0.8768}]\n",
      "valid: 100%|██████| 69/69 [00:00<00:00, 113.89it/s, loss=0.272, metrics={'acc': 0.8741}]\n",
      "epoch 13: 100%|██| 275/275 [00:03<00:00, 76.29it/s, loss=0.265, metrics={'acc': 0.8787}]\n",
      "valid: 100%|██████| 69/69 [00:00<00:00, 113.24it/s, loss=0.273, metrics={'acc': 0.8726}]\n",
      "epoch 14: 100%|██| 275/275 [00:03<00:00, 76.86it/s, loss=0.265, metrics={'acc': 0.8777}]\n",
      "valid: 100%|██████| 69/69 [00:00<00:00, 114.75it/s, loss=0.273, metrics={'acc': 0.8741}]\n",
      "epoch 15: 100%|██| 275/275 [00:03<00:00, 72.97it/s, loss=0.264, metrics={'acc': 0.8779}]\n",
      "valid: 100%|██████| 69/69 [00:00<00:00, 115.13it/s, loss=0.273, metrics={'acc': 0.8735}]\n",
      "epoch 16: 100%|██| 275/275 [00:03<00:00, 71.00it/s, loss=0.263, metrics={'acc': 0.8789}]\n",
      "valid: 100%|██████| 69/69 [00:00<00:00, 159.56it/s, loss=0.274, metrics={'acc': 0.8718}]\n",
      "epoch 17: 100%|██| 275/275 [00:02<00:00, 98.42it/s, loss=0.263, metrics={'acc': 0.8789}]\n",
      "valid: 100%|██████| 69/69 [00:00<00:00, 172.29it/s, loss=0.274, metrics={'acc': 0.8727}]\n",
      "epoch 18: 100%|█| 275/275 [00:02<00:00, 111.46it/s, loss=0.262, metrics={'acc': 0.8786}]\n",
      "valid: 100%|██████| 69/69 [00:00<00:00, 172.87it/s, loss=0.274, metrics={'acc': 0.8737}]\n",
      "epoch 19: 100%|█| 275/275 [00:02<00:00, 109.79it/s, loss=0.261, metrics={'acc': 0.8785}]\n",
      "valid: 100%|██████| 69/69 [00:00<00:00, 167.10it/s, loss=0.275, metrics={'acc': 0.8737}]\n",
      "epoch 20: 100%|██| 275/275 [00:02<00:00, 99.87it/s, loss=0.261, metrics={'acc': 0.8789}]\n",
      "valid: 100%|██████| 69/69 [00:00<00:00, 156.25it/s, loss=0.275, metrics={'acc': 0.8724}]\n",
      "epoch 21: 100%|██| 275/275 [00:03<00:00, 83.22it/s, loss=0.256, metrics={'acc': 0.8813}]\n",
      "valid: 100%|██████| 69/69 [00:00<00:00, 107.03it/s, loss=0.274, metrics={'acc': 0.8727}]\n",
      "epoch 22: 100%|██| 275/275 [00:03<00:00, 79.09it/s, loss=0.255, metrics={'acc': 0.8832}]\n",
      "valid: 100%|██████| 69/69 [00:00<00:00, 140.85it/s, loss=0.275, metrics={'acc': 0.8733}]\n",
      "epoch 23: 100%|██| 275/275 [00:02<00:00, 99.53it/s, loss=0.254, metrics={'acc': 0.8822}]\n",
      "valid: 100%|██████| 69/69 [00:00<00:00, 128.29it/s, loss=0.276, metrics={'acc': 0.8724}]\n",
      "epoch 24: 100%|██| 275/275 [00:03<00:00, 86.39it/s, loss=0.253, metrics={'acc': 0.8846}]\n",
      "valid: 100%|██████| 69/69 [00:00<00:00, 112.40it/s, loss=0.276, metrics={'acc': 0.8724}]\n",
      "epoch 25: 100%|███| 275/275 [00:03<00:00, 75.98it/s, loss=0.253, metrics={'acc': 0.884}]\n",
      "valid: 100%|██████| 69/69 [00:00<00:00, 123.45it/s, loss=0.276, metrics={'acc': 0.8715}]\n",
      "epoch 26: 100%|██| 275/275 [00:03<00:00, 80.57it/s, loss=0.253, metrics={'acc': 0.8839}]\n",
      "valid: 100%|██████| 69/69 [00:00<00:00, 134.19it/s, loss=0.277, metrics={'acc': 0.8706}]\n",
      "epoch 27: 100%|██| 275/275 [00:03<00:00, 83.52it/s, loss=0.253, metrics={'acc': 0.8838}]\n",
      "valid: 100%|██████| 69/69 [00:00<00:00, 120.70it/s, loss=0.277, metrics={'acc': 0.8709}]\n",
      "epoch 28: 100%|██| 275/275 [00:03<00:00, 87.30it/s, loss=0.252, metrics={'acc': 0.8837}]\n",
      "valid: 100%|██████| 69/69 [00:00<00:00, 136.44it/s, loss=0.277, metrics={'acc': 0.8706}]\n",
      "epoch 29: 100%|██| 275/275 [00:03<00:00, 84.86it/s, loss=0.252, metrics={'acc': 0.8847}]\n",
      "valid: 100%|██████| 69/69 [00:00<00:00, 126.91it/s, loss=0.278, metrics={'acc': 0.8698}]\n",
      "epoch 30: 100%|██| 275/275 [00:03<00:00, 83.93it/s, loss=0.252, metrics={'acc': 0.8837}]\n",
      "valid: 100%|██████| 69/69 [00:00<00:00, 130.11it/s, loss=0.277, metrics={'acc': 0.8715}]\n",
      "epoch 31: 100%|██| 275/275 [00:03<00:00, 81.44it/s, loss=0.252, metrics={'acc': 0.8824}]\n",
      "valid: 100%|██████| 69/69 [00:00<00:00, 120.13it/s, loss=0.278, metrics={'acc': 0.8711}]\n",
      "epoch 32: 100%|███| 275/275 [00:03<00:00, 81.13it/s, loss=0.25, metrics={'acc': 0.8843}]\n",
      "valid: 100%|██████| 69/69 [00:00<00:00, 109.88it/s, loss=0.278, metrics={'acc': 0.8705}]\n",
      "epoch 33: 100%|███| 275/275 [00:03<00:00, 69.72it/s, loss=0.25, metrics={'acc': 0.8838}]\n",
      "valid: 100%|██████| 69/69 [00:00<00:00, 118.55it/s, loss=0.278, metrics={'acc': 0.8699}]\n",
      "epoch 34: 100%|██| 275/275 [00:03<00:00, 85.04it/s, loss=0.251, metrics={'acc': 0.8843}]\n",
      "valid: 100%|██████| 69/69 [00:00<00:00, 136.37it/s, loss=0.278, metrics={'acc': 0.8698}]\n",
      "epoch 35: 100%|███| 275/275 [00:02<00:00, 92.70it/s, loss=0.25, metrics={'acc': 0.8841}]\n",
      "valid: 100%|██████| 69/69 [00:00<00:00, 145.48it/s, loss=0.278, metrics={'acc': 0.8697}]\n",
      "epoch 36: 100%|██| 275/275 [00:02<00:00, 95.07it/s, loss=0.251, metrics={'acc': 0.8843}]\n",
      "valid: 100%|████████| 69/69 [00:00<00:00, 144.44it/s, loss=0.278, metrics={'acc': 0.87}]\n",
      "epoch 37: 100%|███| 275/275 [00:02<00:00, 93.25it/s, loss=0.25, metrics={'acc': 0.8837}]\n",
      "valid: 100%|██████| 69/69 [00:00<00:00, 144.45it/s, loss=0.278, metrics={'acc': 0.8701}]\n",
      "epoch 38: 100%|███| 275/275 [00:03<00:00, 91.39it/s, loss=0.25, metrics={'acc': 0.8843}]\n",
      "valid: 100%|██████| 69/69 [00:00<00:00, 139.95it/s, loss=0.278, metrics={'acc': 0.8702}]\n",
      "epoch 39: 100%|███| 275/275 [00:02<00:00, 92.64it/s, loss=0.25, metrics={'acc': 0.8847}]\n",
      "valid: 100%|██████| 69/69 [00:00<00:00, 140.00it/s, loss=0.278, metrics={'acc': 0.8703}]\n"
     ]
    },
    {
     "name": "stdout",
     "output_type": "stream",
     "text": [
      "Best Epoch: 9. Best val_loss: 0.27098\n",
      "Restoring model weights from the end of the best epoch\n"
     ]
    }
   ],
   "source": [
    "trainer.fit(\n",
    "    X_tab=X_tab_train,\n",
    "    target=target,\n",
    "    val_split=0.2,\n",
    "    n_epochs=100,\n",
    "    batch_size=128,\n",
    "    validation_freq=1,\n",
    "    feature_importance_sample_size=1000,\n",
    ")"
   ]
  },
  {
   "cell_type": "code",
   "execution_count": 17,
   "id": "cd603a44",
   "metadata": {},
   "outputs": [
    {
     "data": {
      "text/plain": [
       "{'age': 0.098023,\n",
       " 'workclass': 0.07621125,\n",
       " 'education': 0.07414728,\n",
       " 'marital_status': 0.113280274,\n",
       " 'occupation': 0.07292068,\n",
       " 'relationship': 0.08008792,\n",
       " 'race': 0.104180396,\n",
       " 'gender': 0.07037963,\n",
       " 'capital_gain': 0.06584223,\n",
       " 'capital_loss': 0.07647487,\n",
       " 'hours_per_week': 0.09369389,\n",
       " 'native_country': 0.0747586}"
      ]
     },
     "execution_count": 17,
     "metadata": {},
     "output_type": "execute_result"
    }
   ],
   "source": [
    "trainer.feature_importance"
   ]
  },
  {
   "cell_type": "code",
   "execution_count": 18,
   "id": "8342dfdc",
   "metadata": {},
   "outputs": [
    {
     "name": "stderr",
     "output_type": "stream",
     "text": [
      "predict: 100%|█████████████████████████████████████████| 39/39 [00:00<00:00, 213.15it/s]\n"
     ]
    }
   ],
   "source": [
    "preds = trainer.predict(X_tab=X_tab_test)"
   ]
  },
  {
   "cell_type": "code",
   "execution_count": 19,
   "id": "7cfdabda",
   "metadata": {},
   "outputs": [
    {
     "data": {
      "text/plain": [
       "0.8734902763561925"
      ]
     },
     "execution_count": 19,
     "metadata": {},
     "output_type": "execute_result"
    }
   ],
   "source": [
    "accuracy_score(preds, test.income_label)"
   ]
  },
  {
   "cell_type": "code",
   "execution_count": 20,
   "id": "5b49516b",
   "metadata": {},
   "outputs": [],
   "source": [
    "test.reset_index(drop=True, inplace=True)"
   ]
  },
  {
   "cell_type": "code",
   "execution_count": 21,
   "id": "6ad4b3b6",
   "metadata": {},
   "outputs": [
    {
     "data": {
      "text/html": [
       "<div>\n",
       "<style scoped>\n",
       "    .dataframe tbody tr th:only-of-type {\n",
       "        vertical-align: middle;\n",
       "    }\n",
       "\n",
       "    .dataframe tbody tr th {\n",
       "        vertical-align: top;\n",
       "    }\n",
       "\n",
       "    .dataframe thead th {\n",
       "        text-align: right;\n",
       "    }\n",
       "</style>\n",
       "<table border=\"1\" class=\"dataframe\">\n",
       "  <thead>\n",
       "    <tr style=\"text-align: right;\">\n",
       "      <th></th>\n",
       "      <th>age</th>\n",
       "      <th>workclass</th>\n",
       "      <th>education</th>\n",
       "      <th>marital_status</th>\n",
       "      <th>occupation</th>\n",
       "      <th>relationship</th>\n",
       "      <th>race</th>\n",
       "      <th>gender</th>\n",
       "      <th>capital_gain</th>\n",
       "      <th>capital_loss</th>\n",
       "      <th>hours_per_week</th>\n",
       "      <th>native_country</th>\n",
       "      <th>income_label</th>\n",
       "    </tr>\n",
       "  </thead>\n",
       "  <tbody>\n",
       "    <tr>\n",
       "      <th>0</th>\n",
       "      <td>26</td>\n",
       "      <td>Private</td>\n",
       "      <td>Some-college</td>\n",
       "      <td>Never-married</td>\n",
       "      <td>Exec-managerial</td>\n",
       "      <td>Not-in-family</td>\n",
       "      <td>White</td>\n",
       "      <td>Male</td>\n",
       "      <td>0</td>\n",
       "      <td>0</td>\n",
       "      <td>60</td>\n",
       "      <td>United-States</td>\n",
       "      <td>0</td>\n",
       "    </tr>\n",
       "  </tbody>\n",
       "</table>\n",
       "</div>"
      ],
      "text/plain": [
       "   age workclass     education marital_status       occupation   relationship  \\\n",
       "0   26   Private  Some-college  Never-married  Exec-managerial  Not-in-family   \n",
       "\n",
       "    race gender  capital_gain  capital_loss  hours_per_week native_country  \\\n",
       "0  White   Male             0             0              60  United-States   \n",
       "\n",
       "   income_label  \n",
       "0             0  "
      ]
     },
     "execution_count": 21,
     "metadata": {},
     "output_type": "execute_result"
    }
   ],
   "source": [
    "test[test.income_label == 0].head(1)"
   ]
  },
  {
   "cell_type": "code",
   "execution_count": 22,
   "id": "6419edff",
   "metadata": {},
   "outputs": [
    {
     "data": {
      "text/html": [
       "<div>\n",
       "<style scoped>\n",
       "    .dataframe tbody tr th:only-of-type {\n",
       "        vertical-align: middle;\n",
       "    }\n",
       "\n",
       "    .dataframe tbody tr th {\n",
       "        vertical-align: top;\n",
       "    }\n",
       "\n",
       "    .dataframe thead th {\n",
       "        text-align: right;\n",
       "    }\n",
       "</style>\n",
       "<table border=\"1\" class=\"dataframe\">\n",
       "  <thead>\n",
       "    <tr style=\"text-align: right;\">\n",
       "      <th></th>\n",
       "      <th>age</th>\n",
       "      <th>workclass</th>\n",
       "      <th>education</th>\n",
       "      <th>marital_status</th>\n",
       "      <th>occupation</th>\n",
       "      <th>relationship</th>\n",
       "      <th>race</th>\n",
       "      <th>gender</th>\n",
       "      <th>capital_gain</th>\n",
       "      <th>capital_loss</th>\n",
       "      <th>hours_per_week</th>\n",
       "      <th>native_country</th>\n",
       "      <th>income_label</th>\n",
       "    </tr>\n",
       "  </thead>\n",
       "  <tbody>\n",
       "    <tr>\n",
       "      <th>3</th>\n",
       "      <td>36</td>\n",
       "      <td>Local-gov</td>\n",
       "      <td>Doctorate</td>\n",
       "      <td>Married-civ-spouse</td>\n",
       "      <td>Prof-specialty</td>\n",
       "      <td>Husband</td>\n",
       "      <td>White</td>\n",
       "      <td>Male</td>\n",
       "      <td>0</td>\n",
       "      <td>1887</td>\n",
       "      <td>50</td>\n",
       "      <td>United-States</td>\n",
       "      <td>1</td>\n",
       "    </tr>\n",
       "  </tbody>\n",
       "</table>\n",
       "</div>"
      ],
      "text/plain": [
       "   age  workclass  education      marital_status      occupation relationship  \\\n",
       "3   36  Local-gov  Doctorate  Married-civ-spouse  Prof-specialty      Husband   \n",
       "\n",
       "    race gender  capital_gain  capital_loss  hours_per_week native_country  \\\n",
       "3  White   Male             0          1887              50  United-States   \n",
       "\n",
       "   income_label  \n",
       "3             1  "
      ]
     },
     "execution_count": 22,
     "metadata": {},
     "output_type": "execute_result"
    }
   ],
   "source": [
    "test[test.income_label == 1].head(1)"
   ]
  },
  {
   "cell_type": "markdown",
   "id": "a6860689",
   "metadata": {},
   "source": [
    "To get the feature importance of a test dataset, simply use the `explain` method"
   ]
  },
  {
   "cell_type": "code",
   "execution_count": 23,
   "id": "ba6432ba",
   "metadata": {},
   "outputs": [],
   "source": [
    "feat_imp_per_sample = trainer.explain(X_tab_test, save_step_masks=False)"
   ]
  },
  {
   "cell_type": "code",
   "execution_count": 24,
   "id": "f350e822",
   "metadata": {},
   "outputs": [
    {
     "data": {
      "text/plain": [
       "['marital_status',\n",
       " 'race',\n",
       " 'age',\n",
       " 'capital_loss',\n",
       " 'occupation',\n",
       " 'native_country',\n",
       " 'workclass',\n",
       " 'education',\n",
       " 'gender',\n",
       " 'relationship',\n",
       " 'hours_per_week',\n",
       " 'capital_gain']"
      ]
     },
     "execution_count": 24,
     "metadata": {},
     "output_type": "execute_result"
    }
   ],
   "source": [
    "list(test.iloc[0].index[np.argsort(-feat_imp_per_sample[0])])"
   ]
  },
  {
   "cell_type": "code",
   "execution_count": 25,
   "id": "f05a8302",
   "metadata": {},
   "outputs": [
    {
     "data": {
      "text/plain": [
       "['marital_status',\n",
       " 'race',\n",
       " 'capital_loss',\n",
       " 'occupation',\n",
       " 'education',\n",
       " 'native_country',\n",
       " 'hours_per_week',\n",
       " 'relationship',\n",
       " 'age',\n",
       " 'workclass',\n",
       " 'gender',\n",
       " 'capital_gain']"
      ]
     },
     "execution_count": 25,
     "metadata": {},
     "output_type": "execute_result"
    }
   ],
   "source": [
    "list(test.iloc[3].index[np.argsort(-feat_imp_per_sample[3])])"
   ]
  },
  {
   "cell_type": "markdown",
   "id": "558fc30f",
   "metadata": {},
   "source": [
    "We could do the same with the `ContextAttentionMLP`"
   ]
  },
  {
   "cell_type": "code",
   "execution_count": 26,
   "id": "45b8a869",
   "metadata": {},
   "outputs": [],
   "source": [
    "context_attn_mlp = ContextAttentionMLP(\n",
    "    column_idx=tab_preprocessor.column_idx,\n",
    "    cat_embed_input=tab_preprocessor.cat_embed_input,\n",
    "    cat_embed_dropout=0.0,\n",
    "    input_dim=16,\n",
    "    attn_dropout=0.1,\n",
    "    attn_activation=\"relu\",\n",
    ")"
   ]
  },
  {
   "cell_type": "code",
   "execution_count": 27,
   "id": "07f0c434",
   "metadata": {},
   "outputs": [],
   "source": [
    "mlp_model = WideDeep(deeptabular=context_attn_mlp)"
   ]
  },
  {
   "cell_type": "code",
   "execution_count": 28,
   "id": "d9c1ef75",
   "metadata": {},
   "outputs": [],
   "source": [
    "mlp_optimizer = torch.optim.Adam(mlp_model.parameters(), lr=0.01, weight_decay=0.0)"
   ]
  },
  {
   "cell_type": "code",
   "execution_count": 29,
   "id": "4c2f21ca",
   "metadata": {},
   "outputs": [],
   "source": [
    "mlp_lr_scheduler = torch.optim.lr_scheduler.ReduceLROnPlateau(\n",
    "    mlp_optimizer,\n",
    "    threshold=0.001,\n",
    "    threshold_mode=\"abs\",\n",
    "    patience=10,\n",
    ")"
   ]
  },
  {
   "cell_type": "code",
   "execution_count": 30,
   "id": "504c1755",
   "metadata": {},
   "outputs": [],
   "source": [
    "mlp_early_stopping = EarlyStopping(\n",
    "    min_delta=0.001, patience=30, restore_best_weights=True, verbose=True\n",
    ")"
   ]
  },
  {
   "cell_type": "code",
   "execution_count": 31,
   "id": "78c79a3d",
   "metadata": {},
   "outputs": [],
   "source": [
    "mlp_trainer = Trainer(\n",
    "    mlp_model,\n",
    "    objective=\"binary\",\n",
    "    optimizers=mlp_optimizer,\n",
    "    lr_schedulers=mlp_lr_scheduler,\n",
    "    reducelronplateau_criterion=\"loss\",\n",
    "    callbacks=[mlp_early_stopping],\n",
    "    metrics=[Accuracy],\n",
    ")"
   ]
  },
  {
   "cell_type": "code",
   "execution_count": 32,
   "id": "af40082b",
   "metadata": {
    "scrolled": false
   },
   "outputs": [
    {
     "name": "stderr",
     "output_type": "stream",
     "text": [
      "epoch 1: 100%|███| 275/275 [00:03<00:00, 91.33it/s, loss=0.395, metrics={'acc': 0.8139}]\n",
      "valid: 100%|██████| 69/69 [00:00<00:00, 125.66it/s, loss=0.306, metrics={'acc': 0.8577}]\n",
      "epoch 2: 100%|███| 275/275 [00:03<00:00, 87.31it/s, loss=0.333, metrics={'acc': 0.8396}]\n",
      "valid: 100%|██████| 69/69 [00:00<00:00, 140.84it/s, loss=0.291, metrics={'acc': 0.8631}]\n",
      "epoch 3: 100%|███| 275/275 [00:03<00:00, 84.57it/s, loss=0.323, metrics={'acc': 0.8494}]\n",
      "valid: 100%|██████| 69/69 [00:00<00:00, 141.55it/s, loss=0.293, metrics={'acc': 0.8632}]\n",
      "epoch 4: 100%|███| 275/275 [00:03<00:00, 84.62it/s, loss=0.312, metrics={'acc': 0.8518}]\n",
      "valid: 100%|████████| 69/69 [00:00<00:00, 156.92it/s, loss=0.3, metrics={'acc': 0.8543}]\n",
      "epoch 5: 100%|████| 275/275 [00:03<00:00, 85.74it/s, loss=0.31, metrics={'acc': 0.8552}]\n",
      "valid: 100%|██████| 69/69 [00:00<00:00, 130.66it/s, loss=0.303, metrics={'acc': 0.8545}]\n",
      "epoch 6: 100%|███| 275/275 [00:02<00:00, 93.70it/s, loss=0.303, metrics={'acc': 0.8579}]\n",
      "valid: 100%|██████| 69/69 [00:00<00:00, 161.71it/s, loss=0.291, metrics={'acc': 0.8609}]\n",
      "epoch 7: 100%|███| 275/275 [00:03<00:00, 81.87it/s, loss=0.302, metrics={'acc': 0.8584}]\n",
      "valid: 100%|██████| 69/69 [00:00<00:00, 126.83it/s, loss=0.294, metrics={'acc': 0.8579}]\n",
      "epoch 8: 100%|█████| 275/275 [00:04<00:00, 62.67it/s, loss=0.299, metrics={'acc': 0.86}]\n",
      "valid: 100%|██████| 69/69 [00:00<00:00, 161.52it/s, loss=0.284, metrics={'acc': 0.8653}]\n",
      "epoch 9: 100%|███| 275/275 [00:03<00:00, 85.13it/s, loss=0.296, metrics={'acc': 0.8615}]\n",
      "valid: 100%|██████| 69/69 [00:00<00:00, 153.13it/s, loss=0.282, metrics={'acc': 0.8672}]\n",
      "epoch 10: 100%|███| 275/275 [00:02<00:00, 92.61it/s, loss=0.296, metrics={'acc': 0.861}]\n",
      "valid: 100%|██████| 69/69 [00:00<00:00, 156.41it/s, loss=0.281, metrics={'acc': 0.8716}]\n",
      "epoch 11: 100%|██| 275/275 [00:02<00:00, 99.43it/s, loss=0.295, metrics={'acc': 0.8619}]\n",
      "valid: 100%|██████| 69/69 [00:00<00:00, 155.07it/s, loss=0.283, metrics={'acc': 0.8649}]\n",
      "epoch 12: 100%|██| 275/275 [00:03<00:00, 83.91it/s, loss=0.294, metrics={'acc': 0.8603}]\n",
      "valid: 100%|██████| 69/69 [00:00<00:00, 108.25it/s, loss=0.285, metrics={'acc': 0.8652}]\n",
      "epoch 13: 100%|██| 275/275 [00:03<00:00, 77.13it/s, loss=0.292, metrics={'acc': 0.8631}]\n",
      "valid: 100%|██████| 69/69 [00:00<00:00, 116.60it/s, loss=0.284, metrics={'acc': 0.8656}]\n",
      "epoch 14: 100%|██| 275/275 [00:03<00:00, 81.83it/s, loss=0.294, metrics={'acc': 0.8622}]\n",
      "valid: 100%|██████| 69/69 [00:00<00:00, 126.96it/s, loss=0.283, metrics={'acc': 0.8665}]\n",
      "epoch 15: 100%|██| 275/275 [00:03<00:00, 81.45it/s, loss=0.292, metrics={'acc': 0.8621}]\n",
      "valid: 100%|██████| 69/69 [00:00<00:00, 128.30it/s, loss=0.284, metrics={'acc': 0.8664}]\n",
      "epoch 16: 100%|██| 275/275 [00:03<00:00, 81.18it/s, loss=0.293, metrics={'acc': 0.8626}]\n",
      "valid: 100%|██████| 69/69 [00:00<00:00, 129.63it/s, loss=0.283, metrics={'acc': 0.8659}]\n",
      "epoch 17: 100%|██| 275/275 [00:03<00:00, 76.42it/s, loss=0.292, metrics={'acc': 0.8619}]\n",
      "valid: 100%|██████| 69/69 [00:00<00:00, 112.97it/s, loss=0.285, metrics={'acc': 0.8658}]\n",
      "epoch 18: 100%|██| 275/275 [00:03<00:00, 71.98it/s, loss=0.294, metrics={'acc': 0.8609}]\n",
      "valid: 100%|██████| 69/69 [00:00<00:00, 117.61it/s, loss=0.279, metrics={'acc': 0.8691}]\n",
      "epoch 19: 100%|███| 275/275 [00:03<00:00, 76.80it/s, loss=0.29, metrics={'acc': 0.8652}]\n",
      "valid: 100%|██████| 69/69 [00:00<00:00, 113.99it/s, loss=0.283, metrics={'acc': 0.8707}]\n",
      "epoch 20: 100%|██| 275/275 [00:03<00:00, 69.47it/s, loss=0.293, metrics={'acc': 0.8613}]\n",
      "valid: 100%|██████| 69/69 [00:00<00:00, 115.32it/s, loss=0.283, metrics={'acc': 0.8646}]\n",
      "epoch 21: 100%|███| 275/275 [00:03<00:00, 69.08it/s, loss=0.29, metrics={'acc': 0.8636}]\n",
      "valid: 100%|██████| 69/69 [00:00<00:00, 117.65it/s, loss=0.289, metrics={'acc': 0.8621}]\n",
      "epoch 22: 100%|██| 275/275 [00:03<00:00, 69.49it/s, loss=0.291, metrics={'acc': 0.8626}]\n",
      "valid: 100%|██████| 69/69 [00:00<00:00, 125.45it/s, loss=0.284, metrics={'acc': 0.8675}]\n",
      "epoch 23: 100%|███| 275/275 [00:03<00:00, 81.16it/s, loss=0.29, metrics={'acc': 0.8637}]\n",
      "valid: 100%|██████| 69/69 [00:00<00:00, 124.96it/s, loss=0.284, metrics={'acc': 0.8649}]\n",
      "epoch 24: 100%|███| 275/275 [00:03<00:00, 76.37it/s, loss=0.29, metrics={'acc': 0.8646}]\n",
      "valid: 100%|███████| 69/69 [00:00<00:00, 114.71it/s, loss=0.28, metrics={'acc': 0.8678}]\n",
      "epoch 25: 100%|██| 275/275 [00:03<00:00, 68.76it/s, loss=0.289, metrics={'acc': 0.8634}]\n",
      "valid: 100%|██████| 69/69 [00:00<00:00, 113.49it/s, loss=0.282, metrics={'acc': 0.8675}]\n",
      "epoch 26: 100%|██| 275/275 [00:03<00:00, 68.98it/s, loss=0.291, metrics={'acc': 0.8624}]\n",
      "valid: 100%|██████| 69/69 [00:00<00:00, 121.90it/s, loss=0.282, metrics={'acc': 0.8668}]\n",
      "epoch 27: 100%|██| 275/275 [00:03<00:00, 72.16it/s, loss=0.289, metrics={'acc': 0.8648}]\n",
      "valid: 100%|███████| 69/69 [00:00<00:00, 109.51it/s, loss=0.28, metrics={'acc': 0.8674}]\n",
      "epoch 28: 100%|██| 275/275 [00:03<00:00, 68.83it/s, loss=0.288, metrics={'acc': 0.8653}]\n",
      "valid: 100%|██████| 69/69 [00:00<00:00, 110.77it/s, loss=0.283, metrics={'acc': 0.8637}]\n",
      "epoch 29: 100%|███| 275/275 [00:04<00:00, 68.63it/s, loss=0.29, metrics={'acc': 0.8655}]\n",
      "valid: 100%|██████| 69/69 [00:00<00:00, 113.82it/s, loss=0.283, metrics={'acc': 0.8643}]\n",
      "epoch 30: 100%|███| 275/275 [00:04<00:00, 67.75it/s, loss=0.284, metrics={'acc': 0.868}]\n",
      "valid: 100%|██████| 69/69 [00:00<00:00, 106.96it/s, loss=0.276, metrics={'acc': 0.8708}]\n",
      "epoch 31: 100%|██| 275/275 [00:04<00:00, 61.95it/s, loss=0.284, metrics={'acc': 0.8664}]\n",
      "valid: 100%|███████| 69/69 [00:00<00:00, 97.29it/s, loss=0.276, metrics={'acc': 0.8699}]\n",
      "epoch 32: 100%|██| 275/275 [00:05<00:00, 53.82it/s, loss=0.284, metrics={'acc': 0.8663}]\n",
      "valid: 100%|███████| 69/69 [00:00<00:00, 87.62it/s, loss=0.275, metrics={'acc': 0.8703}]\n",
      "epoch 33: 100%|██| 275/275 [00:05<00:00, 52.92it/s, loss=0.282, metrics={'acc': 0.8669}]\n",
      "valid: 100%|█████████| 69/69 [00:00<00:00, 87.98it/s, loss=0.276, metrics={'acc': 0.87}]\n",
      "epoch 34: 100%|██| 275/275 [00:05<00:00, 54.57it/s, loss=0.282, metrics={'acc': 0.8666}]\n",
      "valid: 100%|███████| 69/69 [00:00<00:00, 95.37it/s, loss=0.275, metrics={'acc': 0.8708}]\n",
      "epoch 35: 100%|██| 275/275 [00:04<00:00, 58.35it/s, loss=0.281, metrics={'acc': 0.8701}]\n",
      "valid: 100%|███████| 69/69 [00:00<00:00, 98.99it/s, loss=0.276, metrics={'acc': 0.8693}]\n",
      "epoch 36: 100%|██| 275/275 [00:04<00:00, 57.91it/s, loss=0.281, metrics={'acc': 0.8673}]\n",
      "valid: 100%|███████| 69/69 [00:00<00:00, 96.97it/s, loss=0.277, metrics={'acc': 0.8689}]\n",
      "epoch 37: 100%|██| 275/275 [00:04<00:00, 58.82it/s, loss=0.279, metrics={'acc': 0.8687}]\n",
      "valid: 100%|███████| 69/69 [00:00<00:00, 98.79it/s, loss=0.277, metrics={'acc': 0.8676}]\n",
      "epoch 38: 100%|███| 275/275 [00:04<00:00, 61.86it/s, loss=0.28, metrics={'acc': 0.8707}]\n",
      "valid: 100%|████████| 69/69 [00:00<00:00, 102.77it/s, loss=0.276, metrics={'acc': 0.87}]\n",
      "epoch 39: 100%|███| 275/275 [00:04<00:00, 61.11it/s, loss=0.281, metrics={'acc': 0.869}]\n",
      "valid: 100%|██████| 69/69 [00:00<00:00, 101.65it/s, loss=0.276, metrics={'acc': 0.8683}]\n",
      "epoch 40: 100%|███| 275/275 [00:04<00:00, 59.90it/s, loss=0.28, metrics={'acc': 0.8692}]\n",
      "valid: 100%|██████| 69/69 [00:00<00:00, 102.92it/s, loss=0.278, metrics={'acc': 0.8681}]\n",
      "epoch 41: 100%|██| 275/275 [00:04<00:00, 60.41it/s, loss=0.281, metrics={'acc': 0.8674}]\n",
      "valid: 100%|███████| 69/69 [00:00<00:00, 98.36it/s, loss=0.276, metrics={'acc': 0.8703}]\n",
      "epoch 42: 100%|██| 275/275 [00:04<00:00, 55.65it/s, loss=0.281, metrics={'acc': 0.8691}]\n",
      "valid: 100%|███████| 69/69 [00:00<00:00, 97.88it/s, loss=0.276, metrics={'acc': 0.8693}]\n",
      "epoch 43: 100%|███| 275/275 [00:04<00:00, 59.98it/s, loss=0.28, metrics={'acc': 0.8679}]\n",
      "valid: 100%|███████| 69/69 [00:00<00:00, 98.41it/s, loss=0.276, metrics={'acc': 0.8701}]\n",
      "epoch 44: 100%|██| 275/275 [00:04<00:00, 59.67it/s, loss=0.279, metrics={'acc': 0.8688}]\n",
      "valid: 100%|█████████| 69/69 [00:00<00:00, 98.48it/s, loss=0.276, metrics={'acc': 0.87}]\n",
      "epoch 45: 100%|██| 275/275 [00:04<00:00, 61.62it/s, loss=0.279, metrics={'acc': 0.8694}]\n",
      "valid: 100%|████████| 69/69 [00:00<00:00, 103.90it/s, loss=0.276, metrics={'acc': 0.87}]\n",
      "epoch 46: 100%|███| 275/275 [00:04<00:00, 61.50it/s, loss=0.28, metrics={'acc': 0.8688}]\n",
      "valid: 100%|████████| 69/69 [00:00<00:00, 102.02it/s, loss=0.276, metrics={'acc': 0.87}]\n"
     ]
    },
    {
     "name": "stderr",
     "output_type": "stream",
     "text": [
      "epoch 47: 100%|██| 275/275 [00:03<00:00, 70.92it/s, loss=0.279, metrics={'acc': 0.8693}]\n",
      "valid: 100%|██████| 69/69 [00:00<00:00, 121.47it/s, loss=0.276, metrics={'acc': 0.8699}]\n",
      "epoch 48: 100%|██| 275/275 [00:03<00:00, 75.09it/s, loss=0.277, metrics={'acc': 0.8701}]\n",
      "valid: 100%|██████| 69/69 [00:00<00:00, 126.88it/s, loss=0.276, metrics={'acc': 0.8706}]\n",
      "epoch 49: 100%|██| 275/275 [00:03<00:00, 74.75it/s, loss=0.279, metrics={'acc': 0.8694}]\n",
      "valid: 100%|██████| 69/69 [00:00<00:00, 130.57it/s, loss=0.276, metrics={'acc': 0.8705}]\n",
      "epoch 50: 100%|██| 275/275 [00:03<00:00, 81.06it/s, loss=0.278, metrics={'acc': 0.8704}]\n",
      "valid: 100%|████████| 69/69 [00:00<00:00, 137.71it/s, loss=0.276, metrics={'acc': 0.87}]\n",
      "epoch 51: 100%|██| 275/275 [00:03<00:00, 79.21it/s, loss=0.278, metrics={'acc': 0.8689}]\n",
      "valid: 100%|██████| 69/69 [00:00<00:00, 134.51it/s, loss=0.276, metrics={'acc': 0.8702}]\n",
      "epoch 52: 100%|███| 275/275 [00:03<00:00, 81.95it/s, loss=0.279, metrics={'acc': 0.869}]\n",
      "valid: 100%|██████| 69/69 [00:00<00:00, 136.85it/s, loss=0.276, metrics={'acc': 0.8701}]\n",
      "epoch 53: 100%|██| 275/275 [00:03<00:00, 82.84it/s, loss=0.279, metrics={'acc': 0.8702}]\n",
      "valid: 100%|████████| 69/69 [00:00<00:00, 139.43it/s, loss=0.276, metrics={'acc': 0.87}]\n",
      "epoch 54: 100%|███| 275/275 [00:03<00:00, 84.35it/s, loss=0.28, metrics={'acc': 0.8678}]\n",
      "valid: 100%|██████| 69/69 [00:00<00:00, 139.32it/s, loss=0.276, metrics={'acc': 0.8701}]\n",
      "epoch 55: 100%|██| 275/275 [00:03<00:00, 82.40it/s, loss=0.278, metrics={'acc': 0.8694}]\n",
      "valid: 100%|████████| 69/69 [00:00<00:00, 140.20it/s, loss=0.276, metrics={'acc': 0.87}]\n",
      "epoch 56: 100%|███| 275/275 [00:03<00:00, 84.02it/s, loss=0.28, metrics={'acc': 0.8686}]\n",
      "valid: 100%|████████| 69/69 [00:00<00:00, 138.68it/s, loss=0.276, metrics={'acc': 0.87}]\n",
      "epoch 57: 100%|████| 275/275 [00:03<00:00, 83.66it/s, loss=0.28, metrics={'acc': 0.868}]\n",
      "valid: 100%|██████| 69/69 [00:00<00:00, 139.25it/s, loss=0.276, metrics={'acc': 0.8702}]\n",
      "epoch 58: 100%|███| 275/275 [00:03<00:00, 83.12it/s, loss=0.279, metrics={'acc': 0.869}]\n",
      "valid: 100%|██████| 69/69 [00:00<00:00, 134.59it/s, loss=0.276, metrics={'acc': 0.8702}]\n",
      "epoch 59: 100%|██| 275/275 [00:03<00:00, 81.14it/s, loss=0.278, metrics={'acc': 0.8682}]\n",
      "valid: 100%|██████| 69/69 [00:00<00:00, 135.79it/s, loss=0.276, metrics={'acc': 0.8702}]\n",
      "epoch 60: 100%|███| 275/275 [00:03<00:00, 80.78it/s, loss=0.28, metrics={'acc': 0.8684}]\n",
      "valid: 100%|████████| 69/69 [00:00<00:00, 133.84it/s, loss=0.276, metrics={'acc': 0.87}]\n"
     ]
    },
    {
     "name": "stdout",
     "output_type": "stream",
     "text": [
      "Best Epoch: 30. Best val_loss: 0.27563\n",
      "Restoring model weights from the end of the best epoch\n"
     ]
    }
   ],
   "source": [
    "mlp_trainer.fit(\n",
    "    X_tab=X_tab_train,\n",
    "    target=target,\n",
    "    val_split=0.2,\n",
    "    n_epochs=100,\n",
    "    batch_size=128,\n",
    "    validation_freq=1,\n",
    "    feature_importance_sample_size=1000,\n",
    ")"
   ]
  },
  {
   "cell_type": "code",
   "execution_count": 33,
   "id": "0a4fdc77",
   "metadata": {},
   "outputs": [
    {
     "data": {
      "text/plain": [
       "{'age': 0.103683405,\n",
       " 'workclass': 0.066264994,\n",
       " 'education': 0.10014994,\n",
       " 'marital_status': 0.1235957,\n",
       " 'occupation': 0.12825337,\n",
       " 'relationship': 0.15234835,\n",
       " 'race': 0.061964743,\n",
       " 'gender': 0.05328226,\n",
       " 'capital_gain': 0.03052448,\n",
       " 'capital_loss': 0.037544865,\n",
       " 'hours_per_week': 0.07689079,\n",
       " 'native_country': 0.0654971}"
      ]
     },
     "execution_count": 33,
     "metadata": {},
     "output_type": "execute_result"
    }
   ],
   "source": [
    "mlp_trainer.feature_importance"
   ]
  },
  {
   "cell_type": "code",
   "execution_count": 34,
   "id": "c10be01f",
   "metadata": {},
   "outputs": [
    {
     "name": "stderr",
     "output_type": "stream",
     "text": [
      "predict: 100%|█████████████████████████████████████████| 39/39 [00:00<00:00, 211.89it/s]\n"
     ]
    }
   ],
   "source": [
    "mlp_preds = mlp_trainer.predict(X_tab=X_tab_test)"
   ]
  },
  {
   "cell_type": "code",
   "execution_count": 35,
   "id": "0b2a46a9",
   "metadata": {},
   "outputs": [
    {
     "data": {
      "text/plain": [
       "0.873899692937564"
      ]
     },
     "execution_count": 35,
     "metadata": {},
     "output_type": "execute_result"
    }
   ],
   "source": [
    "accuracy_score(mlp_preds, test.income_label)"
   ]
  }
 ],
 "metadata": {
  "kernelspec": {
   "display_name": "Python 3 (ipykernel)",
   "language": "python",
   "name": "python3"
  },
  "language_info": {
   "codemirror_mode": {
    "name": "ipython",
    "version": 3
   },
   "file_extension": ".py",
   "mimetype": "text/x-python",
   "name": "python",
   "nbconvert_exporter": "python",
   "pygments_lexer": "ipython3",
   "version": "3.9.15"
  }
 },
 "nbformat": 4,
 "nbformat_minor": 5
}
